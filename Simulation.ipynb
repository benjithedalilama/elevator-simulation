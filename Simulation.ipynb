{
 "cells": [
  {
   "cell_type": "code",
   "execution_count": 4,
   "metadata": {},
   "outputs": [
    {
     "name": "stdout",
     "output_type": "stream",
     "text": [
      "How many passengers does the building have?3\n",
      "How many floors does the building have?2\n",
      "Which strategy do you want to use? (1 for FIFO, 2 for move-to-max-min)1\n",
      "\n",
      "Elevator Snapshot \n",
      "Current Floor:  0 \n",
      "Direction:  1 \n",
      "Destinations:  []\n",
      "\n",
      "Elevator Snapshot \n",
      "Current Floor:  0 \n",
      "Direction:  1 \n",
      "Destinations:  []\n",
      "\n",
      "Elevator Snapshot \n",
      "Current Floor:  0 \n",
      "Direction:  1 \n",
      "Destinations:  []\n",
      "\n",
      "Elevator Snapshot \n",
      "Current Floor:  0 \n",
      "Direction:  1 \n",
      "Destinations:  []\n",
      "\n",
      "\n",
      "2\n",
      "4\n",
      "6\n"
     ]
    }
   ],
   "source": [
    "import random\n",
    "from elevator import Elevator\n",
    "from passenger import Passenger\n",
    "from building import Building\n",
    "\n",
    "def main():\n",
    "    num_passengers = int(input(\"How many passengers does the building have?\"))\n",
    "    num_floors = int(input(\"How many floors does the building have?\"))\n",
    "    strategy = int(input(\"Which strategy do you want to use? (1 for FIFO, 2 for move-to-max-min)\"))\n",
    "    building = Building(num_passengers, num_floors)\n",
    "    elevator = Elevator(num_floors)\n",
    "    passengers = []\n",
    "    for i in range(num_passengers):\n",
    "        start_floor = random.choice(range(elevator.n_floors))\n",
    "        destination_floor = random.choice(range(elevator.n_floors))\n",
    "        while start_floor == destination_floor:\n",
    "            destination_floor = random.choice(range(elevator.n_floors))\n",
    "        passenger = Passenger(start_floor, destination_floor)\n",
    "        passengers.append(passenger)\n",
    "        elevator.add_call(passenger.start_floor, passenger.destination, passenger)\n",
    "    elevator.snapshot()\n",
    "    if strategy == 1:\n",
    "        for passenger in passengers:\n",
    "            elevator.FIFO()\n",
    "    else:\n",
    "        elevator.max_floor_strategy()\n",
    "    print \"\\n\"\n",
    "    for passenger in passengers:\n",
    "        print passenger.time_cost\n",
    "\n",
    "main()"
   ]
  },
  {
   "cell_type": "code",
   "execution_count": null,
   "metadata": {
    "collapsed": true
   },
   "outputs": [],
   "source": []
  }
 ],
 "metadata": {
  "kernelspec": {
   "display_name": "Python 2",
   "language": "python",
   "name": "python2"
  },
  "language_info": {
   "codemirror_mode": {
    "name": "ipython",
    "version": 2
   },
   "file_extension": ".py",
   "mimetype": "text/x-python",
   "name": "python",
   "nbconvert_exporter": "python",
   "pygments_lexer": "ipython2",
   "version": "2.7.14"
  }
 },
 "nbformat": 4,
 "nbformat_minor": 2
}
