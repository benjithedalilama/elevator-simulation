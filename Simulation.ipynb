{
 "cells": [
  {
   "cell_type": "code",
   "execution_count": 1,
   "metadata": {},
   "outputs": [
    {
     "name": "stdout",
     "output_type": "stream",
     "text": [
      "('\\nElevator Snapshot', '\\nCurrent Floor: ', 0, '\\nDirection: ', 1, '\\nDestinations: ', set([]))\n",
      "[[1, 4, 1, <passenger.Passenger object at 0x10e687490>], [8, 9, 1, <passenger.Passenger object at 0x10e6874d0>], [9, 0, -1, <passenger.Passenger object at 0x10e687510>], [2, 4, 1, <passenger.Passenger object at 0x10e687550>], [4, 3, -1, <passenger.Passenger object at 0x10e687590>], [1, 3, 1, <passenger.Passenger object at 0x10e6875d0>], [6, 0, -1, <passenger.Passenger object at 0x10e687610>], [6, 2, -1, <passenger.Passenger object at 0x10e687650>], [2, 0, -1, <passenger.Passenger object at 0x10e687690>], [4, 5, 1, <passenger.Passenger object at 0x10e65ac10>]]\n",
      "[[1, 4, 1, <passenger.Passenger object at 0x10e687490>], [8, 9, 1, <passenger.Passenger object at 0x10e6874d0>], [9, 0, -1, <passenger.Passenger object at 0x10e687510>], [2, 4, 1, <passenger.Passenger object at 0x10e687550>], [4, 3, -1, <passenger.Passenger object at 0x10e687590>], [1, 3, 1, <passenger.Passenger object at 0x10e6875d0>], [6, 0, -1, <passenger.Passenger object at 0x10e687610>], [6, 2, -1, <passenger.Passenger object at 0x10e687650>], [2, 0, -1, <passenger.Passenger object at 0x10e687690>], [4, 5, 1, <passenger.Passenger object at 0x10e65ac10>]]\n",
      "0\n",
      "[1, 4, 1, <passenger.Passenger object at 0x10e687490>]\n",
      "1\n",
      "[9, 0, -1, <passenger.Passenger object at 0x10e687510>]\n",
      "2\n",
      "[2, 4, 1, <passenger.Passenger object at 0x10e687550>]\n",
      "3\n",
      "[4, 3, -1, <passenger.Passenger object at 0x10e687590>]\n",
      "4\n",
      "[1, 3, 1, <passenger.Passenger object at 0x10e6875d0>]\n",
      "5\n",
      "[6, 2, -1, <passenger.Passenger object at 0x10e687650>]\n",
      "6\n",
      "[2, 0, -1, <passenger.Passenger object at 0x10e687690>]\n",
      "7\n",
      "[4, 5, 1, <passenger.Passenger object at 0x10e65ac10>]\n",
      "8\n"
     ]
    },
    {
     "ename": "IndexError",
     "evalue": "list index out of range",
     "output_type": "error",
     "traceback": [
      "\u001b[0;31m---------------------------------------------------------------------------\u001b[0m",
      "\u001b[0;31mIndexError\u001b[0m                                Traceback (most recent call last)",
      "\u001b[0;32m<ipython-input-1-56898e008839>\u001b[0m in \u001b[0;36m<module>\u001b[0;34m()\u001b[0m\n\u001b[1;32m     31\u001b[0m             \u001b[0;32mprint\u001b[0m\u001b[0;34m(\u001b[0m\u001b[0mpassenger\u001b[0m\u001b[0;34m.\u001b[0m\u001b[0mtime_cost\u001b[0m\u001b[0;34m)\u001b[0m\u001b[0;34m\u001b[0m\u001b[0m\n\u001b[1;32m     32\u001b[0m \u001b[0;34m\u001b[0m\u001b[0m\n\u001b[0;32m---> 33\u001b[0;31m \u001b[0mmain\u001b[0m\u001b[0;34m(\u001b[0m\u001b[0;34m)\u001b[0m\u001b[0;34m\u001b[0m\u001b[0m\n\u001b[0m\u001b[1;32m     34\u001b[0m \u001b[0;34m\u001b[0m\u001b[0m\n",
      "\u001b[0;32m<ipython-input-1-56898e008839>\u001b[0m in \u001b[0;36mmain\u001b[0;34m()\u001b[0m\n\u001b[1;32m     26\u001b[0m             \u001b[0melevator\u001b[0m\u001b[0;34m.\u001b[0m\u001b[0msnapshot\u001b[0m\u001b[0;34m(\u001b[0m\u001b[0;34m)\u001b[0m\u001b[0;34m\u001b[0m\u001b[0m\n\u001b[1;32m     27\u001b[0m     \u001b[0;32melse\u001b[0m\u001b[0;34m:\u001b[0m\u001b[0;34m\u001b[0m\u001b[0m\n\u001b[0;32m---> 28\u001b[0;31m         \u001b[0melevator\u001b[0m\u001b[0;34m.\u001b[0m\u001b[0mmax_floor_strategy\u001b[0m\u001b[0;34m(\u001b[0m\u001b[0;34m)\u001b[0m\u001b[0;34m\u001b[0m\u001b[0m\n\u001b[0m\u001b[1;32m     29\u001b[0m         \u001b[0melevator\u001b[0m\u001b[0;34m.\u001b[0m\u001b[0msnapshot\u001b[0m\u001b[0;34m(\u001b[0m\u001b[0;34m)\u001b[0m\u001b[0;34m\u001b[0m\u001b[0m\n\u001b[1;32m     30\u001b[0m     \u001b[0;32mfor\u001b[0m \u001b[0mpassenger\u001b[0m \u001b[0;32min\u001b[0m \u001b[0mpassengers\u001b[0m\u001b[0;34m:\u001b[0m\u001b[0;34m\u001b[0m\u001b[0m\n",
      "\u001b[0;32m/Users/guilhermesouza/Desktop/Programming/CS166/elevator-simulation/elevator.py\u001b[0m in \u001b[0;36mmax_floor_strategy\u001b[0;34m(self)\u001b[0m\n\u001b[1;32m     74\u001b[0m     \u001b[0;32mdef\u001b[0m \u001b[0mmax_floor_strategy\u001b[0m\u001b[0;34m(\u001b[0m\u001b[0mself\u001b[0m\u001b[0;34m)\u001b[0m\u001b[0;34m:\u001b[0m\u001b[0;34m\u001b[0m\u001b[0m\n\u001b[1;32m     75\u001b[0m         \u001b[0;32mwhile\u001b[0m \u001b[0mself\u001b[0m\u001b[0;34m.\u001b[0m\u001b[0mcalls\u001b[0m \u001b[0;32mor\u001b[0m \u001b[0mself\u001b[0m\u001b[0;34m.\u001b[0m\u001b[0mdestinations\u001b[0m\u001b[0;34m:\u001b[0m\u001b[0;34m\u001b[0m\u001b[0m\n\u001b[0;32m---> 76\u001b[0;31m             \u001b[0mself\u001b[0m\u001b[0;34m.\u001b[0m\u001b[0mmove_to_max_min\u001b[0m\u001b[0;34m(\u001b[0m\u001b[0;34m)\u001b[0m\u001b[0;34m\u001b[0m\u001b[0m\n\u001b[0m\u001b[1;32m     77\u001b[0m             \u001b[0mself\u001b[0m\u001b[0;34m.\u001b[0m\u001b[0mdirection\u001b[0m \u001b[0;34m=\u001b[0m \u001b[0;34m-\u001b[0m\u001b[0mself\u001b[0m\u001b[0;34m.\u001b[0m\u001b[0mdirection\u001b[0m\u001b[0;34m\u001b[0m\u001b[0m\n\u001b[1;32m     78\u001b[0m \u001b[0;34m\u001b[0m\u001b[0m\n",
      "\u001b[0;32m/Users/guilhermesouza/Desktop/Programming/CS166/elevator-simulation/elevator.py\u001b[0m in \u001b[0;36mmove_to_max_min\u001b[0;34m(self)\u001b[0m\n\u001b[1;32m     63\u001b[0m             \u001b[0;32mwhile\u001b[0m \u001b[0mself\u001b[0m\u001b[0;34m.\u001b[0m\u001b[0mfloor\u001b[0m \u001b[0;34m<\u001b[0m \u001b[0mup_dest\u001b[0m\u001b[0;34m:\u001b[0m\u001b[0;34m\u001b[0m\u001b[0m\n\u001b[1;32m     64\u001b[0m                 \u001b[0mself\u001b[0m\u001b[0;34m.\u001b[0m\u001b[0mmove_one\u001b[0m\u001b[0;34m(\u001b[0m\u001b[0;34m)\u001b[0m\u001b[0;34m\u001b[0m\u001b[0m\n\u001b[0;32m---> 65\u001b[0;31m                 \u001b[0mself\u001b[0m\u001b[0;34m.\u001b[0m\u001b[0mpickup_dropoff\u001b[0m\u001b[0;34m(\u001b[0m\u001b[0;34m)\u001b[0m\u001b[0;34m\u001b[0m\u001b[0m\n\u001b[0m\u001b[1;32m     66\u001b[0m         \u001b[0;32melif\u001b[0m \u001b[0mself\u001b[0m\u001b[0;34m.\u001b[0m\u001b[0mdirection\u001b[0m \u001b[0;34m==\u001b[0m \u001b[0;34m-\u001b[0m\u001b[0;36m1\u001b[0m\u001b[0;34m:\u001b[0m\u001b[0;34m\u001b[0m\u001b[0m\n\u001b[1;32m     67\u001b[0m             \u001b[0mdown_floors\u001b[0m \u001b[0;34m=\u001b[0m \u001b[0;34m[\u001b[0m\u001b[0mi\u001b[0m\u001b[0;34m[\u001b[0m\u001b[0;36m1\u001b[0m\u001b[0;34m]\u001b[0m \u001b[0;32mfor\u001b[0m \u001b[0mi\u001b[0m \u001b[0;32min\u001b[0m \u001b[0mself\u001b[0m\u001b[0;34m.\u001b[0m\u001b[0mcalls\u001b[0m \u001b[0;32mif\u001b[0m \u001b[0mi\u001b[0m\u001b[0;34m[\u001b[0m\u001b[0;36m2\u001b[0m\u001b[0;34m]\u001b[0m \u001b[0;34m==\u001b[0m \u001b[0;34m-\u001b[0m\u001b[0;36m1\u001b[0m\u001b[0;34m]\u001b[0m\u001b[0;34m\u001b[0m\u001b[0m\n",
      "\u001b[0;32m/Users/guilhermesouza/Desktop/Programming/CS166/elevator-simulation/elevator.py\u001b[0m in \u001b[0;36mpickup_dropoff\u001b[0;34m(self)\u001b[0m\n\u001b[1;32m     24\u001b[0m         \u001b[0;32mfor\u001b[0m \u001b[0mi\u001b[0m \u001b[0;32min\u001b[0m \u001b[0mrange\u001b[0m\u001b[0;34m(\u001b[0m\u001b[0mlen\u001b[0m\u001b[0;34m(\u001b[0m\u001b[0mself\u001b[0m\u001b[0;34m.\u001b[0m\u001b[0mcalls\u001b[0m\u001b[0;34m)\u001b[0m\u001b[0;34m)\u001b[0m\u001b[0;34m:\u001b[0m\u001b[0;34m\u001b[0m\u001b[0m\n\u001b[1;32m     25\u001b[0m             \u001b[0;32mprint\u001b[0m\u001b[0;34m(\u001b[0m\u001b[0mi\u001b[0m\u001b[0;34m)\u001b[0m\u001b[0;34m\u001b[0m\u001b[0m\n\u001b[0;32m---> 26\u001b[0;31m             \u001b[0mcall\u001b[0m \u001b[0;34m=\u001b[0m \u001b[0mself\u001b[0m\u001b[0;34m.\u001b[0m\u001b[0mcalls\u001b[0m\u001b[0;34m[\u001b[0m\u001b[0mi\u001b[0m\u001b[0;34m]\u001b[0m\u001b[0;34m\u001b[0m\u001b[0m\n\u001b[0m\u001b[1;32m     27\u001b[0m             \u001b[0;32mprint\u001b[0m\u001b[0;34m(\u001b[0m\u001b[0mcall\u001b[0m\u001b[0;34m)\u001b[0m\u001b[0;34m\u001b[0m\u001b[0m\n\u001b[1;32m     28\u001b[0m             \u001b[0mpassenger\u001b[0m \u001b[0;34m=\u001b[0m \u001b[0mcall\u001b[0m\u001b[0;34m[\u001b[0m\u001b[0;36m3\u001b[0m\u001b[0;34m]\u001b[0m\u001b[0;34m\u001b[0m\u001b[0m\n",
      "\u001b[0;31mIndexError\u001b[0m: list index out of range"
     ]
    }
   ],
   "source": [
    "import random\n",
    "from elevator import Elevator\n",
    "from passenger import Passenger\n",
    "from building import Building\n",
    "\n",
    "def main():\n",
    "    num_passengers = 10#int(input(\"How many passengers does the building have?\"))\n",
    "    num_floors = 10#int(input(\"How many floors does the building have?\"))\n",
    "    strategy = 2#int(input(\"Which strategy do you want to use? (1 for FIFO, 2 for move-to-max-min)\"))\n",
    "    building = Building(num_passengers, num_floors)\n",
    "    elevator = Elevator(num_floors)\n",
    "    passengers = []\n",
    "    for i in range(num_passengers):\n",
    "        start_floor = random.choice(range(elevator.n_floors))\n",
    "        destination_floor = random.choice(range(elevator.n_floors))\n",
    "        while start_floor == destination_floor:\n",
    "            destination_floor = random.choice(range(elevator.n_floors))\n",
    "        passenger = Passenger(start_floor, destination_floor)\n",
    "        passengers.append(passenger)\n",
    "        elevator.call(passenger.start_floor, passenger.destination, passenger)\n",
    "    elevator.snapshot()\n",
    "    print(elevator.calls)\n",
    "    if strategy == 1:\n",
    "        for passenger in passengers:\n",
    "            elevator.FIFO()\n",
    "            elevator.snapshot()\n",
    "    else:\n",
    "        elevator.max_floor_strategy()\n",
    "        elevator.snapshot()\n",
    "    for passenger in passengers:\n",
    "            print(passenger.time_cost)\n",
    "\n",
    "main()\n",
    "\n"
   ]
  },
  {
   "cell_type": "code",
   "execution_count": null,
   "metadata": {
    "collapsed": true
   },
   "outputs": [],
   "source": []
  },
  {
   "cell_type": "code",
   "execution_count": null,
   "metadata": {
    "collapsed": true
   },
   "outputs": [],
   "source": []
  }
 ],
 "metadata": {
  "anaconda-cloud": {},
  "kernelspec": {
   "display_name": "Python 2",
   "language": "python",
   "name": "python2"
  },
  "language_info": {
   "codemirror_mode": {
    "name": "ipython",
    "version": 2
   },
   "file_extension": ".py",
   "mimetype": "text/x-python",
   "name": "python",
   "nbconvert_exporter": "python",
   "pygments_lexer": "ipython2",
   "version": "2.7.14"
  }
 },
 "nbformat": 4,
 "nbformat_minor": 1
}
