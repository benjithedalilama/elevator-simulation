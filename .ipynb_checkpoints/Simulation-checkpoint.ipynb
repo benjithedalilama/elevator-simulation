{
 "cells": [
  {
   "cell_type": "code",
   "execution_count": 5,
   "metadata": {
    "collapsed": false
   },
   "outputs": [
    {
     "name": "stdout",
     "output_type": "stream",
     "text": [
      "\n",
      "Elevator Snapshot \n",
      "Current Floor:  0 \n",
      "Direction:  None \n",
      "Destinations:  set()\n",
      "[[4, 8, 1, <passenger.Passenger object at 0x111de0048>], [2, 5, 1, <passenger.Passenger object at 0x111de0128>], [0, 9, 1, <passenger.Passenger object at 0x111de02e8>], [0, 2, 1, <passenger.Passenger object at 0x111de06a0>], [6, 4, -1, <passenger.Passenger object at 0x111de0438>], [6, 3, -1, <passenger.Passenger object at 0x111de0198>], [4, 5, 1, <passenger.Passenger object at 0x111de0e80>], [1, 6, 1, <passenger.Passenger object at 0x111de0898>], [0, 8, 1, <passenger.Passenger object at 0x111de0eb8>], [5, 6, 1, <passenger.Passenger object at 0x111de0c18>]]\n",
      "\n",
      "Elevator Snapshot \n",
      "Current Floor:  8 \n",
      "Direction:  None \n",
      "Destinations:  set()\n",
      "\n",
      "Elevator Snapshot \n",
      "Current Floor:  5 \n",
      "Direction:  None \n",
      "Destinations:  set()\n",
      "\n",
      "Elevator Snapshot \n",
      "Current Floor:  9 \n",
      "Direction:  None \n",
      "Destinations:  set()\n",
      "\n",
      "Elevator Snapshot \n",
      "Current Floor:  2 \n",
      "Direction:  None \n",
      "Destinations:  set()\n",
      "\n",
      "Elevator Snapshot \n",
      "Current Floor:  4 \n",
      "Direction:  None \n",
      "Destinations:  set()\n",
      "\n",
      "Elevator Snapshot \n",
      "Current Floor:  3 \n",
      "Direction:  None \n",
      "Destinations:  set()\n",
      "\n",
      "Elevator Snapshot \n",
      "Current Floor:  5 \n",
      "Direction:  None \n",
      "Destinations:  set()\n",
      "\n",
      "Elevator Snapshot \n",
      "Current Floor:  6 \n",
      "Direction:  None \n",
      "Destinations:  set()\n",
      "\n",
      "Elevator Snapshot \n",
      "Current Floor:  8 \n",
      "Direction:  None \n",
      "Destinations:  set()\n",
      "\n",
      "Elevator Snapshot \n",
      "Current Floor:  6 \n",
      "Direction:  None \n",
      "Destinations:  set()\n",
      "8\n",
      "17\n",
      "31\n",
      "42\n",
      "48\n",
      "53\n",
      "55\n",
      "64\n",
      "78\n",
      "82\n"
     ]
    }
   ],
   "source": [
    "import random\n",
    "from elevator import Elevator\n",
    "from passenger import Passenger\n",
    "from building import Building\n",
    "\n",
    "def main():\n",
    "    num_passengers = 10#int(input(\"How many passengers does the building have?\"))\n",
    "    num_floors = 10#int(input(\"How many floors does the building have?\"))\n",
    "    strategy = 2#int(input(\"Which strategy do you want to use? (1 for FIFO, 2 for move-to-max-min)\"))\n",
    "    building = Building(num_passengers, num_floors)\n",
    "    elevator = Elevator(num_floors)\n",
    "    passengers = []\n",
    "    for i in range(num_passengers):\n",
    "        start_floor = random.choice(range(elevator.n_floors))\n",
    "        destination_floor = random.choice(range(elevator.n_floors))\n",
    "        while start_floor == destination_floor:\n",
    "            destination_floor = random.choice(range(elevator.n_floors))\n",
    "        passenger = Passenger(start_floor, destination_floor)\n",
    "        passengers.append(passenger)\n",
    "        elevator.call(passenger.start_floor, passenger.destination, passenger)\n",
    "    elevator.snapshot()\n",
    "    print(elevator.calls)\n",
    "    if strategy == 1:\n",
    "        for passenger in passengers:\n",
    "            elevator.FIFO()\n",
    "            elevator.snapshot()\n",
    "    else:\n",
    "        elevator.max_floor_strategy()\n",
    "        elevator.snapshot()\n",
    "    for passenger in passengers:\n",
    "            print(passenger.time_cost)\n",
    "\n",
    "main()\n",
    "\n"
   ]
  },
  {
   "cell_type": "code",
   "execution_count": null,
   "metadata": {
    "collapsed": true
   },
   "outputs": [],
   "source": []
  },
  {
   "cell_type": "code",
   "execution_count": null,
   "metadata": {
    "collapsed": true
   },
   "outputs": [],
   "source": []
  }
 ],
 "metadata": {
  "anaconda-cloud": {},
  "kernelspec": {
   "display_name": "Python [py3k]",
   "language": "python",
   "name": "Python [py3k]"
  },
  "language_info": {
   "codemirror_mode": {
    "name": "ipython",
    "version": 3
   },
   "file_extension": ".py",
   "mimetype": "text/x-python",
   "name": "python",
   "nbconvert_exporter": "python",
   "pygments_lexer": "ipython3",
   "version": "3.6.1"
  }
 },
 "nbformat": 4,
 "nbformat_minor": 0
}
